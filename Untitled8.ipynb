{
  "nbformat": 4,
  "nbformat_minor": 0,
  "metadata": {
    "colab": {
      "provenance": [],
      "authorship_tag": "ABX9TyOFrxcAnDvY5yHx2NbmXoIk",
      "include_colab_link": true
    },
    "kernelspec": {
      "name": "python3",
      "display_name": "Python 3"
    },
    "language_info": {
      "name": "python"
    }
  },
  "cells": [
    {
      "cell_type": "markdown",
      "metadata": {
        "id": "view-in-github",
        "colab_type": "text"
      },
      "source": [
        "<a href=\"https://colab.research.google.com/github/AbdulRahmanPatni/DSAJAVA/blob/main/Untitled8.ipynb\" target=\"_parent\"><img src=\"https://colab.research.google.com/assets/colab-badge.svg\" alt=\"Open In Colab\"/></a>"
      ]
    },
    {
      "cell_type": "code",
      "source": [
        "class Node:\n",
        "  def __init__(self,data):\n",
        "    self.data=data\n",
        "    self.next=None\n",
        "\n",
        "\n",
        "\n",
        "\n",
        "\n",
        "\n"
      ],
      "metadata": {
        "id": "jBz3V5pe_yR8"
      },
      "execution_count": 1,
      "outputs": []
    },
    {
      "cell_type": "code",
      "source": [
        "class CircularLL:\n",
        "  def __init__(self):\n",
        "    self.first=None\n",
        "    self.last=None\n",
        "\n",
        "  def isEmpty(self):\n",
        "    return self.first==None;\n",
        "\n",
        "  def insertFirst(self,data):\n",
        "    newnode=Node(data)\n",
        "    if(self.isEmpty()):\n",
        "      self.last=newnode\n",
        "    newnode.next=self.first\n",
        "    self.first=newnode\n",
        "    self.last.next=self.first;\n",
        "\n",
        "  def __str__(self):\n",
        "    temp=self.first\n",
        "    result=''\n",
        "    while True:\n",
        "        result=result+ \"{\"+str(temp.data)+\"}\"\n",
        "        temp=temp.next\n",
        "        if temp==self.first:\n",
        "          break\n",
        "\n",
        "    return result\n",
        "\n",
        "  def insertLast(self,data):\n",
        "    newnode=Node(data)\n",
        "    temp=self.first\n",
        "    while temp.next is not self.first:\n",
        "      temp=temp.next\n",
        "\n",
        "    temp.next=newnode\n",
        "    newnode.next=self.first\n",
        "    self.last=newnode\n",
        "\n",
        "  def deletefirst(self):\n",
        "    temp=self.first\n",
        "    while temp.next is not self.first:\n",
        "      temp=temp.next\n",
        "\n",
        "    temp.next=self.first.next\n",
        "    self.first=self.last.next\n",
        "\n",
        "\n",
        "  def deletelast(self):\n",
        "    temp=self.first\n",
        "    while temp.next.next!=self.first:\n",
        "      temp=temp.next\n",
        "    temp.next=self.first\n",
        "    self.last=temp\n",
        "\n",
        "\n",
        "  def insertafter(self,key,data):\n",
        "    newnode=Node(data)\n",
        "    temp=self.first\n",
        "    while temp.data!=key:\n",
        "      temp=temp.next\n",
        "      if temp.next==self.first:\n",
        "        break\n",
        "    if temp==self.last:\n",
        "      self.last=newnode\n",
        "      temp.next=newnode\n",
        "      newnode.next=self.first\n",
        "    else:\n",
        "      newnode.next=temp.next\n",
        "      temp.next=newnode\n",
        "\n",
        "\n",
        "\n",
        "\n",
        "\n",
        ""
      ],
      "metadata": {
        "id": "NP3FI6flBE2Z"
      },
      "execution_count": 107,
      "outputs": []
    },
    {
      "cell_type": "code",
      "source": [
        "List=CircularLL()\n",
        "List.insertFirst(20)\n",
        "List.insertFirst(30)\n",
        "List.insertFirst(70)\n",
        "List.insertLast(90)\n"
      ],
      "metadata": {
        "id": "tMuK_cRKEJfq"
      },
      "execution_count": 108,
      "outputs": []
    },
    {
      "cell_type": "code",
      "source": [
        "List.deletefirst()"
      ],
      "metadata": {
        "id": "IN6Aj0GwW0qN"
      },
      "execution_count": 127,
      "outputs": []
    },
    {
      "cell_type": "code",
      "source": [
        "print(List)\n"
      ],
      "metadata": {
        "colab": {
          "base_uri": "https://localhost:8080/"
        },
        "id": "FYbGC9DkJh8O",
        "outputId": "c8b74983-d7b7-4733-95b4-02970c577abb"
      },
      "execution_count": 128,
      "outputs": [
        {
          "output_type": "stream",
          "name": "stdout",
          "text": [
            "{10}\n"
          ]
        }
      ]
    },
    {
      "cell_type": "code",
      "source": [
        "List.insertafter(900,10)"
      ],
      "metadata": {
        "colab": {
          "base_uri": "https://localhost:8080/"
        },
        "id": "hr4Hyfmkwl7G",
        "outputId": "b010c252-93e4-45cc-aa5a-f12fa85ce470"
      },
      "execution_count": 114,
      "outputs": [
        {
          "output_type": "execute_result",
          "data": {
            "text/plain": [
              "True"
            ]
          },
          "metadata": {},
          "execution_count": 114
        }
      ]
    },
    {
      "cell_type": "code",
      "source": [
        "List.first.data"
      ],
      "metadata": {
        "colab": {
          "base_uri": "https://localhost:8080/"
        },
        "id": "mvWtpudB73o4",
        "outputId": "3c77ac82-2210-4b11-fb4f-aeecefe8ffd5"
      },
      "execution_count": 112,
      "outputs": [
        {
          "output_type": "execute_result",
          "data": {
            "text/plain": [
              "70"
            ]
          },
          "metadata": {},
          "execution_count": 112
        }
      ]
    },
    {
      "cell_type": "code",
      "source": [
        "List.last.data"
      ],
      "metadata": {
        "colab": {
          "base_uri": "https://localhost:8080/"
        },
        "id": "LDd9XrKV77Wp",
        "outputId": "173cd6c3-6833-4222-b6c3-1eacf076db81"
      },
      "execution_count": 113,
      "outputs": [
        {
          "output_type": "execute_result",
          "data": {
            "text/plain": [
              "10"
            ]
          },
          "metadata": {},
          "execution_count": 113
        }
      ]
    }
  ]
}