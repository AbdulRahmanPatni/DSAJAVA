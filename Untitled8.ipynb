{
  "nbformat": 4,
  "nbformat_minor": 0,
  "metadata": {
    "colab": {
      "provenance": [],
      "authorship_tag": "ABX9TyNjjdvAavj8+rWxyZeVTSqd",
      "include_colab_link": true
    },
    "kernelspec": {
      "name": "python3",
      "display_name": "Python 3"
    },
    "language_info": {
      "name": "python"
    }
  },
  "cells": [
    {
      "cell_type": "markdown",
      "metadata": {
        "id": "view-in-github",
        "colab_type": "text"
      },
      "source": [
        "<a href=\"https://colab.research.google.com/github/AbdulRahmanPatni/DSAJAVA/blob/main/Untitled8.ipynb\" target=\"_parent\"><img src=\"https://colab.research.google.com/assets/colab-badge.svg\" alt=\"Open In Colab\"/></a>"
      ]
    },
    {
      "cell_type": "code",
      "source": [
        "class Node:\n",
        "  def __init__(self,data):\n",
        "    self.data=data\n",
        "    self.next=None\n",
        "\n",
        "\n",
        "\n",
        "\n",
        "\n",
        "\n"
      ],
      "metadata": {
        "id": "jBz3V5pe_yR8"
      },
      "execution_count": 6,
      "outputs": []
    },
    {
      "cell_type": "code",
      "source": [
        "class CircularLL:\n",
        "  def __init__(self):\n",
        "    self.first=None\n",
        "    self.last=None\n",
        "\n",
        "  def isEmpty(self):\n",
        "    return self.first==None;\n",
        "\n",
        "  def insertFirst(self,data):\n",
        "    newnode=Node(data)\n",
        "    if(self.isEmpty()):\n",
        "      self.last=newnode\n",
        "    newnode.next=self.first\n",
        "    self.first=newnode\n",
        "    self.last.next=self.first;\n",
        "\n",
        "  def __str__(self):\n",
        "    temp=self.first\n",
        "    result=''\n",
        "    while True:\n",
        "        result=result+ \"{\"+str(temp.data)+\"}\"\n",
        "        temp=temp.next\n",
        "        if temp==self.first:\n",
        "          break\n",
        "\n",
        "    return result\n",
        "\n",
        "\n",
        "\n",
        "\n",
        "  # def insertLast(self):\n",
        "\n",
        "\n",
        "\n",
        "\n",
        "\n",
        "\n",
        "\n",
        "\n",
        "\n",
        "\n",
        "\n",
        "\n",
        "\n",
        "\n",
        "\n",
        ""
      ],
      "metadata": {
        "id": "NP3FI6flBE2Z"
      },
      "execution_count": 56,
      "outputs": []
    },
    {
      "cell_type": "code",
      "source": [
        "List=CircularLL()\n",
        "List.insertFirst(20)\n",
        "List.insertFirst(30)\n",
        "List.insertFirst(70)\n"
      ],
      "metadata": {
        "id": "tMuK_cRKEJfq"
      },
      "execution_count": 59,
      "outputs": []
    },
    {
      "cell_type": "code",
      "source": [
        "print(List)\n"
      ],
      "metadata": {
        "colab": {
          "base_uri": "https://localhost:8080/"
        },
        "id": "FYbGC9DkJh8O",
        "outputId": "fbeb701b-cee5-4a66-dbea-6d43b8656daf"
      },
      "execution_count": 60,
      "outputs": [
        {
          "output_type": "stream",
          "name": "stdout",
          "text": [
            "{70}{30}{20}\n"
          ]
        }
      ]
    }
  ]
}